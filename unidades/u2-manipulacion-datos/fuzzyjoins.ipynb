{
 "cells": [
  {
   "cell_type": "markdown",
   "metadata": {
    "id": "nID6sciGxDTB"
   },
   "source": [
    "# Fuzzy Joins"
   ]
  },
  {
   "cell_type": "markdown",
   "metadata": {},
   "source": [
    "En primer lugar, vamos a generar unos datos \"de juguete\" para usar como ejemplo"
   ]
  },
  {
   "cell_type": "code",
   "execution_count": 1,
   "metadata": {
    "id": "t0dWUo6Awxjj"
   },
   "outputs": [],
   "source": [
    "import pandas as pd\n",
    "from fuzzywuzzy import fuzz"
   ]
  },
  {
   "cell_type": "code",
   "execution_count": 17,
   "metadata": {
    "id": "N9y40kmqw7JO"
   },
   "outputs": [],
   "source": [
    "# Generamos datos \"de juguete\" para el ejemplo \n",
    "\n",
    "## Info personal estudiantes\n",
    "df1 = pd.DataFrame({'Nombre': ['Juan Pérez', 'María González', 'Luisa Martínez'],\n",
    "                    'Edad': [21, 19, 20],\n",
    "                    'Email': ['juan@gmail.com', 'maria@gmail.com', 'luisa@gmail.com']})\n",
    "\n",
    "## Info calificaciones estudiantes\n",
    "df2 = pd.DataFrame({'Nombre': ['Juan Perez', 'María Gonzales', 'Luisa Martínz'],\n",
    "                    'Nota_Parcial': [8.5, 7.5, 9],\n",
    "                    'Nota_Final': [9, 8, 9.5]})"
   ]
  },
  {
   "cell_type": "markdown",
   "metadata": {
    "id": "Cmbg7XDnxQLr"
   },
   "source": [
    "A continuación, generamos un loop para el *fuzzy join* considerando que la unión entre ambos DataFrames será realizada por el campo **`Nombre`**\n",
    "\n",
    "¿Qué parámetros podemos modificar del código que sigue?"
   ]
  },
  {
   "cell_type": "code",
   "execution_count": 5,
   "metadata": {
    "id": "XZC0tSK0xBwB"
   },
   "outputs": [],
   "source": [
    "for index, row in df2.iterrows():\n",
    "    name = row['Nombre']\n",
    "    max_score = 0\n",
    "    max_name = \"\"\n",
    "\t## Acá iteramos para encontrar el mejor puntaje de similitud con el df1\n",
    "    for index2, row2 in df1.iterrows():\n",
    "        score = fuzz.token_sort_ratio(name, row2['Nombre'])\n",
    "        if score > max_score:\n",
    "            max_score = score\n",
    "            max_name = row2['Nombre']\n",
    "    if max_score > 90:\n",
    "\t\t# Reemplazamos el nombre actual por el nombre de mejor puntaje\n",
    "        df2.at[index, 'Nombre'] = max_name"
   ]
  },
  {
   "cell_type": "markdown",
   "metadata": {},
   "source": [
    "**Sobre `fuzz.token_sort_ratio()`:**\n",
    "en este método utilizado en el *fuzzy matching* de strings, las cadenas se tokenizan y se preprocesan convirtiendo las mayúsculas a minúsculas y eliminando los signos de puntuación. Posteriormente, se ordenan alfabéticamente y se unen. Una vez realizado todo lo anterior, se calcula la similaridad de Levenshtein entre las dos cadenas resultantes.\n",
    "\n",
    "El último paso sería unir ambos DataFrames a través de **`merge()`**"
   ]
  },
  {
   "cell_type": "markdown",
   "metadata": {},
   "source": [
    "### **Una alternativa:**\n",
    "\n",
    "Podemos hacer la misma operación con un código más compacto utilizando **`process.extractOne()`** de la librería **`fuzzywuzzy`**, la cual permite encontrar la mejor coincidencia entre un término de búsqueda y una lista de posibles candidatos. Esta función realiza comparaciones de similitud de cadenas usando una métrica definida (como `token_sort_ratio`, que compara cadenas ignorando el orden de las palabras, como se describió anteriormente), y devuelve la mejor coincidencia junto con un score de similaridad. \n",
    "\n",
    "La sintaxis básica es la siguiente:\n",
    "\n",
    "**`process.extractOne(query, choices, scorer=fuzz.token_sort_ratio, score_cutoff=0)`**\n",
    "\n",
    "donde:\n",
    "\n",
    "- `query` es la cadena que se quiere buscar\n",
    "\n",
    "- `choices` es la lista de opciones en la que se quiere buscar\n",
    "\n",
    "- `scorer` (opcional) es la función de comparación que determina la similitud. El valor predeterminado es `fuzz.WRatio`, pero se puede especificar otra, como `fuzz.token_sort_ratio`\n",
    "\n",
    "- `score_cutoff` (opcional) es el umbral mínimo de score. Si no hay coincidencias por encima de este valor, la función devuelve `None`.\n",
    "\n",
    "Utilizando un loop, el código nos quedaría así:"
   ]
  },
  {
   "cell_type": "code",
   "execution_count": 18,
   "metadata": {},
   "outputs": [],
   "source": [
    "from fuzzywuzzy import process\n",
    "\n",
    "# Iteramos sobre los nombres del df2\n",
    "for index, row in df2.iterrows():\n",
    "    name = row['Nombre']\n",
    "    # Encontramos la mejor coincidencia en df1 utilizando process.extractOne()\n",
    "    best_match = process.extractOne(name, df1['Nombre'], scorer = fuzz.token_sort_ratio, score_cutoff = 70)\n",
    "    if best_match:\n",
    "        # Reemplazamos el nombre por el de mejor puntaje (primer elemento de la lista)\n",
    "        df2.at[index, 'Nombre'] = best_match[0]"
   ]
  }
 ],
 "metadata": {
  "colab": {
   "authorship_tag": "ABX9TyPsxHpXPg1LhF2AgrfggGEX",
   "provenance": []
  },
  "kernelspec": {
   "display_name": "Python 3 (ipykernel)",
   "language": "python",
   "name": "python3"
  },
  "language_info": {
   "codemirror_mode": {
    "name": "ipython",
    "version": 3
   },
   "file_extension": ".py",
   "mimetype": "text/x-python",
   "name": "python",
   "nbconvert_exporter": "python",
   "pygments_lexer": "ipython3",
   "version": "3.10.12"
  }
 },
 "nbformat": 4,
 "nbformat_minor": 4
}
